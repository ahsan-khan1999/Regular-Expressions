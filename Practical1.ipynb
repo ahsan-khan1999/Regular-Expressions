{
 "cells": [
  {
   "cell_type": "code",
   "execution_count": 1,
   "metadata": {},
   "outputs": [],
   "source": [
    "import pandas as pd\n",
    "import re"
   ]
  },
  {
   "cell_type": "code",
   "execution_count": 2,
   "metadata": {},
   "outputs": [],
   "source": [
    "df = pd.read_csv(\"TripAdvisor Reviews.csv\",encoding = \"ISO-8859-1\")\n",
    "df.columns={'Rating','Reviews'}"
   ]
  },
  {
   "cell_type": "code",
   "execution_count": 3,
   "metadata": {},
   "outputs": [
    {
     "data": {
      "text/plain": [
       "(427, 2)"
      ]
     },
     "execution_count": 3,
     "metadata": {},
     "output_type": "execute_result"
    }
   ],
   "source": [
    "df.shape"
   ]
  },
  {
   "cell_type": "code",
   "execution_count": 4,
   "metadata": {},
   "outputs": [
    {
     "data": {
      "text/html": [
       "<div>\n",
       "<style scoped>\n",
       "    .dataframe tbody tr th:only-of-type {\n",
       "        vertical-align: middle;\n",
       "    }\n",
       "\n",
       "    .dataframe tbody tr th {\n",
       "        vertical-align: top;\n",
       "    }\n",
       "\n",
       "    .dataframe thead th {\n",
       "        text-align: right;\n",
       "    }\n",
       "</style>\n",
       "<table border=\"1\" class=\"dataframe\">\n",
       "  <thead>\n",
       "    <tr style=\"text-align: right;\">\n",
       "      <th></th>\n",
       "      <th>Reviews</th>\n",
       "      <th>Rating</th>\n",
       "    </tr>\n",
       "  </thead>\n",
       "  <tbody>\n",
       "    <tr>\n",
       "      <th>0</th>\n",
       "      <td>3</td>\n",
       "      <td>This place is an interesting mix of really coo...</td>\n",
       "    </tr>\n",
       "    <tr>\n",
       "      <th>1</th>\n",
       "      <td>5</td>\n",
       "      <td>Yes, we know the rooms are outdated and funky ...</td>\n",
       "    </tr>\n",
       "    <tr>\n",
       "      <th>2</th>\n",
       "      <td>5</td>\n",
       "      <td>We went to the Grand Canyon from Phoenix, so v...</td>\n",
       "    </tr>\n",
       "    <tr>\n",
       "      <th>3</th>\n",
       "      <td>4</td>\n",
       "      <td>This is my second stay at Monte Vista, it was ...</td>\n",
       "    </tr>\n",
       "    <tr>\n",
       "      <th>4</th>\n",
       "      <td>4</td>\n",
       "      <td>I am not sure why folks post such negative rev...</td>\n",
       "    </tr>\n",
       "  </tbody>\n",
       "</table>\n",
       "</div>"
      ],
      "text/plain": [
       "   Reviews                                             Rating\n",
       "0        3  This place is an interesting mix of really coo...\n",
       "1        5  Yes, we know the rooms are outdated and funky ...\n",
       "2        5  We went to the Grand Canyon from Phoenix, so v...\n",
       "3        4  This is my second stay at Monte Vista, it was ...\n",
       "4        4  I am not sure why folks post such negative rev..."
      ]
     },
     "execution_count": 4,
     "metadata": {},
     "output_type": "execute_result"
    }
   ],
   "source": [
    "df.head()"
   ]
  },
  {
   "cell_type": "code",
   "execution_count": 5,
   "metadata": {},
   "outputs": [
    {
     "name": "stdout",
     "output_type": "stream",
     "text": [
      "<class 'pandas.core.frame.DataFrame'>\n",
      "RangeIndex: 427 entries, 0 to 426\n",
      "Data columns (total 2 columns):\n",
      "Reviews    427 non-null int64\n",
      "Rating     427 non-null object\n",
      "dtypes: int64(1), object(1)\n",
      "memory usage: 6.7+ KB\n"
     ]
    }
   ],
   "source": [
    "df.info()"
   ]
  },
  {
   "cell_type": "code",
   "execution_count": 6,
   "metadata": {},
   "outputs": [
    {
     "data": {
      "text/html": [
       "<div>\n",
       "<style scoped>\n",
       "    .dataframe tbody tr th:only-of-type {\n",
       "        vertical-align: middle;\n",
       "    }\n",
       "\n",
       "    .dataframe tbody tr th {\n",
       "        vertical-align: top;\n",
       "    }\n",
       "\n",
       "    .dataframe thead th {\n",
       "        text-align: right;\n",
       "    }\n",
       "</style>\n",
       "<table border=\"1\" class=\"dataframe\">\n",
       "  <thead>\n",
       "    <tr style=\"text-align: right;\">\n",
       "      <th></th>\n",
       "      <th>Reviews</th>\n",
       "    </tr>\n",
       "  </thead>\n",
       "  <tbody>\n",
       "    <tr>\n",
       "      <th>count</th>\n",
       "      <td>427.000000</td>\n",
       "    </tr>\n",
       "    <tr>\n",
       "      <th>mean</th>\n",
       "      <td>3.259953</td>\n",
       "    </tr>\n",
       "    <tr>\n",
       "      <th>std</th>\n",
       "      <td>1.342817</td>\n",
       "    </tr>\n",
       "    <tr>\n",
       "      <th>min</th>\n",
       "      <td>1.000000</td>\n",
       "    </tr>\n",
       "    <tr>\n",
       "      <th>25%</th>\n",
       "      <td>2.000000</td>\n",
       "    </tr>\n",
       "    <tr>\n",
       "      <th>50%</th>\n",
       "      <td>4.000000</td>\n",
       "    </tr>\n",
       "    <tr>\n",
       "      <th>75%</th>\n",
       "      <td>4.000000</td>\n",
       "    </tr>\n",
       "    <tr>\n",
       "      <th>max</th>\n",
       "      <td>5.000000</td>\n",
       "    </tr>\n",
       "  </tbody>\n",
       "</table>\n",
       "</div>"
      ],
      "text/plain": [
       "          Reviews\n",
       "count  427.000000\n",
       "mean     3.259953\n",
       "std      1.342817\n",
       "min      1.000000\n",
       "25%      2.000000\n",
       "50%      4.000000\n",
       "75%      4.000000\n",
       "max      5.000000"
      ]
     },
     "execution_count": 6,
     "metadata": {},
     "output_type": "execute_result"
    }
   ],
   "source": [
    "df.describe()"
   ]
  },
  {
   "cell_type": "code",
   "execution_count": 8,
   "metadata": {},
   "outputs": [],
   "source": [
    "pattern = '[\\n]'"
   ]
  },
  {
   "cell_type": "code",
   "execution_count": 9,
   "metadata": {},
   "outputs": [],
   "source": [
    "res =  re.compile(pattern)"
   ]
  },
  {
   "cell_type": "code",
   "execution_count": 13,
   "metadata": {},
   "outputs": [
    {
     "data": {
      "text/plain": [
       "0    []\n",
       "1    []\n",
       "2    []\n",
       "3    []\n",
       "4    []\n",
       "Name: Reviews, dtype: object"
      ]
     },
     "execution_count": 13,
     "metadata": {},
     "output_type": "execute_result"
    }
   ],
   "source": [
    "df.Reviews.apply(lambda x: res.findall(str(x))).head()"
   ]
  },
  {
   "cell_type": "code",
   "execution_count": 15,
   "metadata": {},
   "outputs": [
    {
     "ename": "TypeError",
     "evalue": "expected string or buffer",
     "output_type": "error",
     "traceback": [
      "\u001b[1;31m---------------------------------------------------------------------------\u001b[0m",
      "\u001b[1;31mTypeError\u001b[0m                                 Traceback (most recent call last)",
      "\u001b[1;32m<ipython-input-15-e95cd87a0dbc>\u001b[0m in \u001b[0;36m<module>\u001b[1;34m()\u001b[0m\n\u001b[0;32m      1\u001b[0m \u001b[0mpattern\u001b[0m \u001b[1;33m=\u001b[0m \u001b[1;34m'[period]'\u001b[0m\u001b[1;33m\u001b[0m\u001b[0m\n\u001b[0;32m      2\u001b[0m \u001b[0mres\u001b[0m \u001b[1;33m=\u001b[0m  \u001b[0mre\u001b[0m\u001b[1;33m.\u001b[0m\u001b[0mcompile\u001b[0m\u001b[1;33m(\u001b[0m\u001b[0mpattern\u001b[0m\u001b[1;33m)\u001b[0m\u001b[1;33m\u001b[0m\u001b[0m\n\u001b[1;32m----> 3\u001b[1;33m \u001b[0mdf\u001b[0m\u001b[1;33m.\u001b[0m\u001b[0mReviews\u001b[0m\u001b[1;33m.\u001b[0m\u001b[0mapply\u001b[0m\u001b[1;33m(\u001b[0m\u001b[1;32mlambda\u001b[0m \u001b[0mx\u001b[0m\u001b[1;33m:\u001b[0m \u001b[0mres\u001b[0m\u001b[1;33m.\u001b[0m\u001b[0mfindall\u001b[0m\u001b[1;33m(\u001b[0m\u001b[0mx\u001b[0m\u001b[1;33m)\u001b[0m\u001b[1;33m)\u001b[0m\u001b[1;33m.\u001b[0m\u001b[0mhead\u001b[0m\u001b[1;33m(\u001b[0m\u001b[1;33m)\u001b[0m\u001b[1;33m\u001b[0m\u001b[0m\n\u001b[0m",
      "\u001b[1;32mC:\\Users\\Compro\\Anaconda2\\lib\\site-packages\\pandas\\core\\series.pyc\u001b[0m in \u001b[0;36mapply\u001b[1;34m(self, func, convert_dtype, args, **kwds)\u001b[0m\n\u001b[0;32m   3589\u001b[0m             \u001b[1;32melse\u001b[0m\u001b[1;33m:\u001b[0m\u001b[1;33m\u001b[0m\u001b[0m\n\u001b[0;32m   3590\u001b[0m                 \u001b[0mvalues\u001b[0m \u001b[1;33m=\u001b[0m \u001b[0mself\u001b[0m\u001b[1;33m.\u001b[0m\u001b[0mastype\u001b[0m\u001b[1;33m(\u001b[0m\u001b[0mobject\u001b[0m\u001b[1;33m)\u001b[0m\u001b[1;33m.\u001b[0m\u001b[0mvalues\u001b[0m\u001b[1;33m\u001b[0m\u001b[0m\n\u001b[1;32m-> 3591\u001b[1;33m                 \u001b[0mmapped\u001b[0m \u001b[1;33m=\u001b[0m \u001b[0mlib\u001b[0m\u001b[1;33m.\u001b[0m\u001b[0mmap_infer\u001b[0m\u001b[1;33m(\u001b[0m\u001b[0mvalues\u001b[0m\u001b[1;33m,\u001b[0m \u001b[0mf\u001b[0m\u001b[1;33m,\u001b[0m \u001b[0mconvert\u001b[0m\u001b[1;33m=\u001b[0m\u001b[0mconvert_dtype\u001b[0m\u001b[1;33m)\u001b[0m\u001b[1;33m\u001b[0m\u001b[0m\n\u001b[0m\u001b[0;32m   3592\u001b[0m \u001b[1;33m\u001b[0m\u001b[0m\n\u001b[0;32m   3593\u001b[0m         \u001b[1;32mif\u001b[0m \u001b[0mlen\u001b[0m\u001b[1;33m(\u001b[0m\u001b[0mmapped\u001b[0m\u001b[1;33m)\u001b[0m \u001b[1;32mand\u001b[0m \u001b[0misinstance\u001b[0m\u001b[1;33m(\u001b[0m\u001b[0mmapped\u001b[0m\u001b[1;33m[\u001b[0m\u001b[1;36m0\u001b[0m\u001b[1;33m]\u001b[0m\u001b[1;33m,\u001b[0m \u001b[0mSeries\u001b[0m\u001b[1;33m)\u001b[0m\u001b[1;33m:\u001b[0m\u001b[1;33m\u001b[0m\u001b[0m\n",
      "\u001b[1;32mpandas/_libs/lib.pyx\u001b[0m in \u001b[0;36mpandas._libs.lib.map_infer\u001b[1;34m()\u001b[0m\n",
      "\u001b[1;32m<ipython-input-15-e95cd87a0dbc>\u001b[0m in \u001b[0;36m<lambda>\u001b[1;34m(x)\u001b[0m\n\u001b[0;32m      1\u001b[0m \u001b[0mpattern\u001b[0m \u001b[1;33m=\u001b[0m \u001b[1;34m'[period]'\u001b[0m\u001b[1;33m\u001b[0m\u001b[0m\n\u001b[0;32m      2\u001b[0m \u001b[0mres\u001b[0m \u001b[1;33m=\u001b[0m  \u001b[0mre\u001b[0m\u001b[1;33m.\u001b[0m\u001b[0mcompile\u001b[0m\u001b[1;33m(\u001b[0m\u001b[0mpattern\u001b[0m\u001b[1;33m)\u001b[0m\u001b[1;33m\u001b[0m\u001b[0m\n\u001b[1;32m----> 3\u001b[1;33m \u001b[0mdf\u001b[0m\u001b[1;33m.\u001b[0m\u001b[0mReviews\u001b[0m\u001b[1;33m.\u001b[0m\u001b[0mapply\u001b[0m\u001b[1;33m(\u001b[0m\u001b[1;32mlambda\u001b[0m \u001b[0mx\u001b[0m\u001b[1;33m:\u001b[0m \u001b[0mres\u001b[0m\u001b[1;33m.\u001b[0m\u001b[0mfindall\u001b[0m\u001b[1;33m(\u001b[0m\u001b[0mx\u001b[0m\u001b[1;33m)\u001b[0m\u001b[1;33m)\u001b[0m\u001b[1;33m.\u001b[0m\u001b[0mhead\u001b[0m\u001b[1;33m(\u001b[0m\u001b[1;33m)\u001b[0m\u001b[1;33m\u001b[0m\u001b[0m\n\u001b[0m",
      "\u001b[1;31mTypeError\u001b[0m: expected string or buffer"
     ]
    }
   ],
   "source": [
    "pattern = '[period]'\n",
    "res =  re.compile(pattern)\n",
    "df.Reviews.apply(lambda x: res.findall(x)).head()"
   ]
  },
  {
   "cell_type": "code",
   "execution_count": 40,
   "metadata": {},
   "outputs": [
    {
     "data": {
      "text/plain": [
       "0    []\n",
       "1    []\n",
       "2    []\n",
       "3    []\n",
       "4    []\n",
       "Name: Reviews, dtype: object"
      ]
     },
     "execution_count": 40,
     "metadata": {},
     "output_type": "execute_result"
    }
   ],
   "source": [
    "pattern = '[\\d+]'\n",
    "res =  re.compile(pattern)\n",
    "df.Reviews.apply(lambda x: res.findall(x)).head()"
   ]
  },
  {
   "cell_type": "code",
   "execution_count": 33,
   "metadata": {},
   "outputs": [
    {
     "data": {
      "text/plain": [
       "0    []\n",
       "1    []\n",
       "2    []\n",
       "3    []\n",
       "4    []\n",
       "Name: Reviews, dtype: object"
      ]
     },
     "execution_count": 33,
     "metadata": {},
     "output_type": "execute_result"
    }
   ],
   "source": [
    "pattern = '[0-9]'\n",
    "res =  re.compile(pattern)\n",
    "df.Reviews.apply(lambda x: res.findall(x)).head()"
   ]
  },
  {
   "cell_type": "code",
   "execution_count": 35,
   "metadata": {},
   "outputs": [
    {
     "data": {
      "text/plain": [
       "0    [h, i, s, p, l, a, c, e, i, s, a, n, i, n, t, ...\n",
       "1    [e, s, w, e, k, n, o, w, t, h, e, r, o, o, m, ...\n",
       "2    [e, w, e, n, t, t, o, t, h, e, r, a, n, d, a, ...\n",
       "3    [h, i, s, i, s, m, y, s, e, c, o, n, d, s, t, ...\n",
       "4    [a, m, n, o, t, s, u, r, e, w, h, y, f, o, l, ...\n",
       "Name: Reviews, dtype: object"
      ]
     },
     "execution_count": 35,
     "metadata": {},
     "output_type": "execute_result"
    }
   ],
   "source": [
    "pattern = '[a-z-0-9]'\n",
    "res =  re.compile(pattern)\n",
    "df.Reviews.apply(lambda x: res.findall(x))"
   ]
  },
  {
   "cell_type": "code",
   "execution_count": 36,
   "metadata": {},
   "outputs": [
    {
     "data": {
      "text/plain": [
       "0     [h, i, s, p, l, a, c, e, i, s, a, n, i, n, t, ...\n",
       "1     [e, s, w, e, k, n, o, w, t, h, e, r, o, o, m, ...\n",
       "2     [e, w, e, n, t, t, o, t, h, e, r, a, n, d, a, ...\n",
       "3     [h, i, s, i, s, m, y, s, e, c, o, n, d, s, t, ...\n",
       "4     [a, m, n, o, t, s, u, r, e, w, h, y, f, o, l, ...\n",
       "5     [h, i, s, i, s, a, g, o, o, d, h, i, s, t, o, ...\n",
       "6     [r, e, a, t, p, l, a, c, e, t, o, s, t, a, y, ...\n",
       "7     [y, h, u, s, b, a, n, d, a, n, d, w, e, r, e, ...\n",
       "8     [f, y, o, u, l, i, k, e, s, t, a, y, i, n, g, ...\n",
       "9     [l, e, g, a, n, t, a, n, d, a, r, t, d, e, c, ...\n",
       "10    [k, n, e, w, t, h, i, s, c, o, u, l, d, b, e, ...\n",
       "11    [l, e, a, s, a, n, t, l, y, s, u, r, p, r, i, ...\n",
       "12    [r, e, a, t, l, o, c, a, t, i, o, n, a, n, d, ...\n",
       "13    [o, o, d, o, c, a, t, e, d, p, r, e, t, t, y, ...\n",
       "14    [y, s, i, s, t, e, r, a, n, d, s, t, a, y, e, ...\n",
       "15    [h, a, v, e, a, l, w, a, y, s, w, a, n, t, e, ...\n",
       "16    [o, t, h, i, n, g, l, i, k, e, s, t, a, y, i, ...\n",
       "17    [f, y, o, u, a, r, e, a, f, a, n, o, f, h, i, ...\n",
       "18    [h, i, s, p, l, a, c, e, i, s, a, l, l, a, n, ...\n",
       "19    [l, a, g, s, t, a, f, f, i, s, f, u, l, l, o, ...\n",
       "20    [w, a, s, s, h, o, c, k, e, d, w, h, e, n, w, ...\n",
       "21    [e, s, t, o, p, p, e, d, i, n, t, h, e, b, a, ...\n",
       "22    [h, e, b, e, s, t, c, a, n, s, a, y, i, s, t, ...\n",
       "23    [h, e, o, n, t, e, i, s, t, a, i, s, s, i, t, ...\n",
       "24    [o, u, l, d, l, i, k, e, d, t, o, g, i, v, e, ...\n",
       "25    [e, a, d, i, n, g, f, o, r, h, o, e, n, i, x, ...\n",
       "26    [e, a, r, r, i, v, e, d, b, y, r, a, i, l, h, ...\n",
       "27    [o, t, a, f, a, n, u, r, r, o, o, m, w, a, s, ...\n",
       "28    [e, r, y, r, e, a, s, o, n, a, b, l, e, p, r, ...\n",
       "29    [h, e, o, t, e, l, o, n, t, e, i, s, t, a, i, ...\n",
       "30    [h, i, s, o, l, d, h, i, s, t, o, r, i, c, d, ...\n",
       "31    [r, e, a, t, p, l, a, c, e, o, m, f, o, r, t, ...\n",
       "32    [i, c, e, t, o, s, e, e, t, h, a, t, t, h, e, ...\n",
       "33    [h, i, s, h, i, s, t, o, r, i, c, r, e, n, o, ...\n",
       "34    [e, h, a, d, f, r, i, e, n, d, s, s, t, a, y, ...\n",
       "35    [e, r, y, c, l, o, s, e, t, o, t, h, e, m, t, ...\n",
       "36    [l, a, s, s, i, c, e, a, r, l, y, t, h, e, n, ...\n",
       "37    [e, s, t, a, y, e, d, h, e, r, e, t, h, e, d, ...\n",
       "38    [y, w, i, f, e, a, n, d, w, e, r, e, o, n, o, ...\n",
       "39    [m, y, g, i, r, l, f, r, i, e, n, d, a, n, d, ...\n",
       "40    [v, e, r, p, r, i, c, e, d, e, r, y, n, o, i, ...\n",
       "41    [l, d, o, t, e, l, i, n, t, h, e, i, d, d, l, ...\n",
       "42    [a, l, w, a, y, s, l, i, k, e, t, o, s, t, a, ...\n",
       "43    [y, b, o, y, f, r, i, e, n, d, a, n, d, s, t, ...\n",
       "44    [h, i, s, h, o, t, e, l, m, o, r, e, l, e, s, ...\n",
       "45    [e, s, t, a, y, e, d, i, n, t, h, i, s, h, o, ...\n",
       "46    [r, e, a, t, h, i, s, t, o, r, i, c, a, l, p, ...\n",
       "47    [h, a, t, a, w, o, n, d, e, r, f, u, l, e, x, ...\n",
       "48    [r, e, a, t, h, o, t, e, l, i, f, y, o, u, r, ...\n",
       "49    [s, t, a, y, e, d, a, t, t, h, e, o, n, t, e, ...\n",
       "Name: Reviews, dtype: object"
      ]
     },
     "execution_count": 36,
     "metadata": {},
     "output_type": "execute_result"
    }
   ],
   "source": [
    "pattern = '[a-z]'\n",
    "res =  re.compile(pattern)\n",
    "df.Reviews.apply(lambda x: res.findall(x)).head(50)"
   ]
  },
  {
   "cell_type": "code",
   "execution_count": 39,
   "metadata": {},
   "outputs": [
    {
     "data": {
      "text/plain": [
       "0     []\n",
       "1     []\n",
       "2     []\n",
       "3     []\n",
       "4     []\n",
       "5     []\n",
       "6     []\n",
       "7     []\n",
       "8     []\n",
       "9     []\n",
       "10    []\n",
       "11    []\n",
       "12    []\n",
       "13    []\n",
       "14    []\n",
       "15    []\n",
       "16    []\n",
       "17    []\n",
       "18    []\n",
       "19    []\n",
       "20    []\n",
       "21    []\n",
       "22    []\n",
       "23    []\n",
       "24    []\n",
       "25    []\n",
       "26    []\n",
       "27    []\n",
       "28    []\n",
       "29    []\n",
       "30    []\n",
       "31    []\n",
       "32    []\n",
       "33    []\n",
       "34    []\n",
       "35    []\n",
       "36    []\n",
       "37    []\n",
       "38    []\n",
       "39    []\n",
       "40    []\n",
       "41    []\n",
       "42    []\n",
       "43    []\n",
       "44    []\n",
       "45    []\n",
       "46    []\n",
       "47    []\n",
       "48    []\n",
       "49    []\n",
       "Name: Reviews, dtype: object"
      ]
     },
     "execution_count": 39,
     "metadata": {},
     "output_type": "execute_result"
    }
   ],
   "source": [
    "pattern = 'a{n,}'\n",
    "res =  re.compile(pattern)\n",
    "df.Reviews.apply(lambda x: res.findall(x)).head(50)\n",
    "\n",
    "#/*regex = re.compile('\\s+')\n",
    "#text = \"\"\"101 COM    Computers\n",
    "#205 MAT   Mathematics\n",
    "#189 ENG   English\"\"\" \n",
    "#re.split('\\s+', text)\n",
    "# or \n",
    "#regex.split(text)"
   ]
  },
  {
   "cell_type": "code",
   "execution_count": 41,
   "metadata": {},
   "outputs": [
    {
     "data": {
      "text/plain": [
       "0     [a, a, a, a, a, a, a, a, a, a, a, a, a, a, a, ...\n",
       "1            [a, a, a, a, a, a, a, a, a, a, a, a, a, a]\n",
       "2     [a, a, a, a, a, a, a, a, a, a, a, a, a, a, a, ...\n",
       "3      [a, a, a, a, a, a, a, a, a, a, a, a, a, a, a, a]\n",
       "4     [a, a, a, a, a, a, a, a, a, a, a, a, a, a, a, ...\n",
       "5               [a, a, a, a, a, a, a, a, a, a, a, a, a]\n",
       "6         [a, a, a, a, a, a, a, a, a, a, a, a, a, a, a]\n",
       "7     [a, a, a, a, a, a, a, a, a, a, a, a, a, a, a, ...\n",
       "8            [a, a, a, a, a, a, a, a, a, a, a, a, a, a]\n",
       "9      [a, a, a, a, a, a, a, a, a, a, a, a, a, a, a, a]\n",
       "10    [a, a, a, a, a, a, a, a, a, a, a, a, a, a, a, ...\n",
       "11    [a, a, a, a, a, a, a, a, a, a, a, a, a, a, a, ...\n",
       "12              [a, a, a, a, a, a, a, a, a, a, a, a, a]\n",
       "13     [a, a, a, a, a, a, a, a, a, a, a, a, a, a, a, a]\n",
       "14                    [a, a, a, a, a, a, a, a, a, a, a]\n",
       "15    [a, a, a, a, a, a, a, a, a, a, a, a, a, a, a, ...\n",
       "16    [a, a, a, a, a, a, a, a, a, a, a, a, a, a, a, ...\n",
       "17              [a, a, a, a, a, a, a, a, a, a, a, a, a]\n",
       "18    [a, a, a, a, a, a, a, a, a, a, a, a, a, a, a, ...\n",
       "19    [a, a, a, a, a, a, a, a, a, a, a, a, a, a, a, ...\n",
       "20                 [a, a, a, a, a, a, a, a, a, a, a, a]\n",
       "21    [a, a, a, a, a, a, a, a, a, a, a, a, a, a, a, ...\n",
       "22     [a, a, a, a, a, a, a, a, a, a, a, a, a, a, a, a]\n",
       "23    [a, a, a, a, a, a, a, a, a, a, a, a, a, a, a, ...\n",
       "24    [a, a, a, a, a, a, a, a, a, a, a, a, a, a, a, ...\n",
       "25    [a, a, a, a, a, a, a, a, a, a, a, a, a, a, a, ...\n",
       "26                 [a, a, a, a, a, a, a, a, a, a, a, a]\n",
       "27           [a, a, a, a, a, a, a, a, a, a, a, a, a, a]\n",
       "28    [a, a, a, a, a, a, a, a, a, a, a, a, a, a, a, ...\n",
       "29    [a, a, a, a, a, a, a, a, a, a, a, a, a, a, a, ...\n",
       "30           [a, a, a, a, a, a, a, a, a, a, a, a, a, a]\n",
       "31    [a, a, a, a, a, a, a, a, a, a, a, a, a, a, a, ...\n",
       "32              [a, a, a, a, a, a, a, a, a, a, a, a, a]\n",
       "33    [a, a, a, a, a, a, a, a, a, a, a, a, a, a, a, ...\n",
       "34    [a, a, a, a, a, a, a, a, a, a, a, a, a, a, a, ...\n",
       "35        [a, a, a, a, a, a, a, a, a, a, a, a, a, a, a]\n",
       "36        [a, a, a, a, a, a, a, a, a, a, a, a, a, a, a]\n",
       "37     [a, a, a, a, a, a, a, a, a, a, a, a, a, a, a, a]\n",
       "38              [a, a, a, a, a, a, a, a, a, a, a, a, a]\n",
       "39     [a, a, a, a, a, a, a, a, a, a, a, a, a, a, a, a]\n",
       "40        [a, a, a, a, a, a, a, a, a, a, a, a, a, a, a]\n",
       "41                    [a, a, a, a, a, a, a, a, a, a, a]\n",
       "42    [a, a, a, a, a, a, a, a, a, a, a, a, a, a, a, ...\n",
       "43    [a, a, a, a, a, a, a, a, a, a, a, a, a, a, a, ...\n",
       "44              [a, a, a, a, a, a, a, a, a, a, a, a, a]\n",
       "45     [a, a, a, a, a, a, a, a, a, a, a, a, a, a, a, a]\n",
       "46    [a, a, a, a, a, a, a, a, a, a, a, a, a, a, a, ...\n",
       "47    [a, a, a, a, a, a, a, a, a, a, a, a, a, a, a, ...\n",
       "48    [a, a, a, a, a, a, a, a, a, a, a, a, a, a, a, ...\n",
       "49    [a, a, a, a, a, a, a, a, a, a, a, a, a, a, a, ...\n",
       "Name: Reviews, dtype: object"
      ]
     },
     "execution_count": 41,
     "metadata": {},
     "output_type": "execute_result"
    }
   ],
   "source": [
    "pattern = 'a+'\n",
    "res =  re.compile(pattern)\n",
    "df.Reviews.apply(lambda x: res.findall(x)).head(50)"
   ]
  },
  {
   "cell_type": "code",
   "execution_count": 42,
   "metadata": {},
   "outputs": [
    {
     "data": {
      "text/plain": [
       "0     [, , , , , , , , , , , , , , , , , , , , , , ,...\n",
       "1     [, , , , , , , , , , , , , , , , , , , , , , ,...\n",
       "2     [, , , , , , , , , , , , , , , , , , , , , , ,...\n",
       "3     [, , , , , , , , , , , , , , , , , , , , , , ,...\n",
       "4     [, , , , , , , , , , , , , , , , , , , , , , ,...\n",
       "5     [, , , , , , , , , , , , , , , , , , , , , , ,...\n",
       "6     [, , , , , , , , , , , , , , , , , , , , , , ,...\n",
       "7     [, , , , , , , , , , , , , , , , , , , , , , ,...\n",
       "8     [, , , , , , , , , , , , , , , , , , , , , , ,...\n",
       "9     [, , , , , , , , , , , , , , , , , , , , , , ,...\n",
       "10    [, , , , , , , , , , , , , , , , , , , , , , ,...\n",
       "11    [, , , , , , , , , , , , , , , , , , , , , , ,...\n",
       "12    [, , , , , , , , , , , , , , , , , , , , , , ,...\n",
       "13    [, , , , , , , , , , , , , , , , , , , , , , ,...\n",
       "14    [, , , , , , , , , , , , , , , , , , , , , , ,...\n",
       "15    [, , , , , , , , , , , , , , , , , , , , , , ,...\n",
       "16    [, , , , , , , , , , , , , , , , , , , , , , ,...\n",
       "17    [, , , , , , , , , , , , , , , , , , , , , , ,...\n",
       "18    [, , , , , , , , , , , , , , , , , , , , , , ,...\n",
       "19    [, , , , , , , , , , , , , , , , , , , , , , ,...\n",
       "20    [, , , , , , , , , , , , , , , , , , , , , , ,...\n",
       "21    [, , , , , , , , , , , , , , , , , , , , , , ,...\n",
       "22    [, , , , , , , , , , , , , , , , , , , , , , ,...\n",
       "23    [, , , , , , , , , , , , , , , , , , , , , , ,...\n",
       "24    [, , , , , , , , , , , , , , , , , , , , , , ,...\n",
       "25    [, , , , , , , , , , , , , , , , , , , , , , ,...\n",
       "26    [, , , , , , , , , , , , , , , , , , , , 2, , ...\n",
       "27    [, , , , , , , , , , , , , , , , , , , , , , ,...\n",
       "28    [, , , , , , , , , , , , , , , , , , , , , , ,...\n",
       "29    [, , , , , , , , , , , , , , , , , , , , , , ,...\n",
       "30    [, , , , , , , , , , , , , , , , , , , , , , ,...\n",
       "31    [, , , , , , , , , , , , , , , , , , , , , , ,...\n",
       "32    [, , , , , , , , , , , , , , , , , , , , , , ,...\n",
       "33    [, , , , , , , , , , , , , , , , , , , , , , ,...\n",
       "34    [, , , , , , , , , , , , , , , , , , , , , , ,...\n",
       "35    [, , , , , , , , , , , , , , , , , , , , , , ,...\n",
       "36    [, , , , , , , , , , , , , , 20, , , , , , , ,...\n",
       "37    [, , , , , , , , , , , , , , , , , , , , , , ,...\n",
       "38    [, , , , , , , , , , , , , , , , , , , , , , ,...\n",
       "39    [, , , , , , , , , , , , , , , , , , , , , , ,...\n",
       "40    [, , , , , , , , , , , , , , , , , , , , , , ,...\n",
       "41    [, , , , , , , , , , , , , , , , , , , , , , ,...\n",
       "42    [, , , , , , , , , , , , , , , , , , , , , , ,...\n",
       "43    [, , , , , , , , , , , , , , , , , , , , , , ,...\n",
       "44    [, , , , , , , , , , , , , , , , , , , , , , ,...\n",
       "45    [, , , , , , , , , , , , , , , , , , , , , , ,...\n",
       "46    [, , , , , , , , , , , , , , , , , , , , , , ,...\n",
       "47    [, , , , , , , , , , , , , , , , , , , , , , ,...\n",
       "48    [, , , , , , , , , , , , , , , , , , , , , , ,...\n",
       "49    [, , , , , , , , , , , , , , , , , , , , , , ,...\n",
       "Name: Reviews, dtype: object"
      ]
     },
     "execution_count": 42,
     "metadata": {},
     "output_type": "execute_result"
    }
   ],
   "source": [
    "pattern = '[0-9]*'\n",
    "res =  re.compile(pattern)\n",
    "df.Reviews.apply(lambda x: res.findall(x)).head(50)"
   ]
  },
  {
   "cell_type": "code",
   "execution_count": 43,
   "metadata": {},
   "outputs": [
    {
     "data": {
      "text/plain": [
       "0     [, , , , , , , a, , , , , , , a, , , , , , , ,...\n",
       "1     [, , , , , , , , , , , , , , , , , , , , , , ,...\n",
       "2     [, , , , , , , , , , , , , , , , , a, , , , , ...\n",
       "3     [, , , , , , , , , , , , , , , , , , , , a, , ...\n",
       "4     [, , a, , , , , , , , , , , , , , , , , , , , ...\n",
       "5     [, , , , , , , , a, , , , , , , , , , , , , , ...\n",
       "6     [, , , a, , , , , a, , , , , , , , , a, , , , ...\n",
       "7     [, , , , , , , a, , , , a, , , , , , , , , , ,...\n",
       "8     [, , , , , , , , , , , , , , a, , , , , , , , ...\n",
       "9     [, , , , a, , , , a, , , , a, , , , , , , , , ...\n",
       "10    [, , , , , , , , , , , , , , , , , , , , , , ,...\n",
       "11    [, , , a, , a, , , , , , , , , , , , , , , , a...\n",
       "12    [, , , a, , , , , , a, , , , , , a, , , , , , ...\n",
       "13    [, , , , , , , , , a, , , , , , , , , , , , , ...\n",
       "14    [, , , , , , , , , , a, , , , , , , , a, , , ,...\n",
       "15    [, , , a, , , , a, , , a, , , , , a, , , , , ,...\n",
       "16    [, , , , , , , , , , , , , , , a, , , , , , , ...\n",
       "17    [, , , , , , , a, , , , a, , , a, , , , , , , ...\n",
       "18    [, , , , , , , a, , , , , , , a, , , , , , , ,...\n",
       "19    [, , a, , , , a, , , , , , , , , , , , , , , ,...\n",
       "20    [, , , a, , , , , , , , , , , , , , , , , , , ...\n",
       "21    [, , , , , , , , , , , , , , , , , , , a, , , ...\n",
       "22    [, , , , , , , , , , , , a, , , , a, , , , , ,...\n",
       "23    [, , , , , , , , , , , , , , a, , , , , , , , ...\n",
       "24    [, , , , , , , , , , , , , , , , , , , , , , ,...\n",
       "25    [, , a, , , , , , , , , , , , , , , , , , , a,...\n",
       "26    [, , , a, , , , , , , , , , , , a, , , , , , ,...\n",
       "27    [, , , , a, , , a, , , , , , , , , , , , , , a...\n",
       "28    [, , , , , , , a, , , , a, , , , , , , , , , ,...\n",
       "29    [, , , , , , , , , , , , , , , , , , , , a, , ...\n",
       "30    [, , , , , , , , , , , , , , , , , , , , , , ,...\n",
       "31    [, , , a, , , , , a, , , , , , , , , , , , a, ...\n",
       "32    [, , , , , , , , , , , , , , a, , , , , , , , ...\n",
       "33    [, , , , , , , , , , , , , , , , , , , a, , , ...\n",
       "34    [, , , , a, , , , , , , , , , , , , a, , , , ,...\n",
       "35    [, , , , , , , , , , , , , , , , , , , , , , a...\n",
       "36    [, , a, , , , , , , a, , , , , , , , , , , , ,...\n",
       "37    [, , , , , a, , , , , , , , , , , , , , , a, ,...\n",
       "38    [, , , , , , , , a, , , , , , , , , , , , , , ...\n",
       "39    [, , , , , , , , , , , , , , a, , , , , , , , ...\n",
       "40    [, , , , , , , , , , , , , , , , , , , , , , ,...\n",
       "41    [, , , , , , , , , , , , , , , , , , , , , , ,...\n",
       "42    [, , a, , , a, , , , , , , , , , , , , , a, , ...\n",
       "43    [, , , , , , , , , , , , , a, , , , , , , , a,...\n",
       "44    [, , , , , , , , , , , , , , , , , , , , , , ,...\n",
       "45    [, , , , , a, , , , , , , , , , , , , , , , , ...\n",
       "46    [, , , a, , , , , , , , , , , a, , , , , , , ,...\n",
       "47    [, , a, , , a, , , , , , , , , , , , , , , , ,...\n",
       "48    [, , , a, , , , , , , , , , , , , , , , , , , ...\n",
       "49    [, , , , a, , , , , a, , , , , , , , , , , , ,...\n",
       "Name: Reviews, dtype: object"
      ]
     },
     "execution_count": 43,
     "metadata": {},
     "output_type": "execute_result"
    }
   ],
   "source": [
    "pattern = 'a?'\n",
    "res =  re.compile(pattern)\n",
    "df.Reviews.apply(lambda x: res.findall(x)).head(50)"
   ]
  },
  {
   "cell_type": "code",
   "execution_count": 44,
   "metadata": {},
   "outputs": [
    {
     "data": {
      "text/plain": [
       "0     []\n",
       "1     []\n",
       "2     []\n",
       "3     []\n",
       "4     []\n",
       "5     []\n",
       "6     []\n",
       "7     []\n",
       "8     []\n",
       "9     []\n",
       "10    []\n",
       "11    []\n",
       "12    []\n",
       "13    []\n",
       "14    []\n",
       "15    []\n",
       "16    []\n",
       "17    []\n",
       "18    []\n",
       "19    []\n",
       "20    []\n",
       "21    []\n",
       "22    []\n",
       "23    []\n",
       "24    []\n",
       "25    []\n",
       "26    []\n",
       "27    []\n",
       "28    []\n",
       "29    []\n",
       "30    []\n",
       "31    []\n",
       "32    []\n",
       "33    []\n",
       "34    []\n",
       "35    []\n",
       "36    []\n",
       "37    []\n",
       "38    []\n",
       "39    []\n",
       "40    []\n",
       "41    []\n",
       "42    []\n",
       "43    []\n",
       "44    []\n",
       "45    []\n",
       "46    []\n",
       "47    []\n",
       "48    []\n",
       "49    []\n",
       "Name: Reviews, dtype: object"
      ]
     },
     "execution_count": 44,
     "metadata": {},
     "output_type": "execute_result"
    }
   ],
   "source": [
    "pattern = '[\\b]'\n",
    "res =  re.compile(pattern)\n",
    "df.Reviews.apply(lambda x: res.findall(x)).head(50)"
   ]
  },
  {
   "cell_type": "code",
   "execution_count": 67,
   "metadata": {},
   "outputs": [
    {
     "name": "stdout",
     "output_type": "stream",
     "text": [
      "['awais', 'facebook', 'com']\n"
     ]
    }
   ],
   "source": [
    "import nltk\n",
    "import re\n",
    "email=\"awais@facebook.com\"\n",
    "res=re.findall(r\"\\w+\",email)\n",
    "print(str(res))"
   ]
  },
  {
   "cell_type": "code",
   "execution_count": 69,
   "metadata": {},
   "outputs": [
    {
     "name": "stdout",
     "output_type": "stream",
     "text": [
      "['yasir', 'google', 'com']\n"
     ]
    }
   ],
   "source": [
    "\n",
    "email=\"yasir@google.com\"\n",
    "res=re.findall(r\"\\w+\",email)\n",
    "print(str(res))"
   ]
  },
  {
   "cell_type": "code",
   "execution_count": 70,
   "metadata": {},
   "outputs": [
    {
     "name": "stdout",
     "output_type": "stream",
     "text": [
      "['mazhar', 'amazon', 'com']\n"
     ]
    }
   ],
   "source": [
    "email=\"mazhar@amazon.com\"\n",
    "res=re.findall(r\"\\w+\",email)\n",
    "print(str(res))"
   ]
  },
  {
   "cell_type": "code",
   "execution_count": null,
   "metadata": {},
   "outputs": [],
   "source": []
  },
  {
   "cell_type": "code",
   "execution_count": null,
   "metadata": {},
   "outputs": [],
   "source": []
  },
  {
   "cell_type": "code",
   "execution_count": null,
   "metadata": {},
   "outputs": [],
   "source": []
  },
  {
   "cell_type": "code",
   "execution_count": null,
   "metadata": {},
   "outputs": [],
   "source": []
  },
  {
   "cell_type": "code",
   "execution_count": null,
   "metadata": {},
   "outputs": [],
   "source": []
  }
 ],
 "metadata": {
  "kernelspec": {
   "display_name": "Python 2",
   "language": "python",
   "name": "python2"
  },
  "language_info": {
   "codemirror_mode": {
    "name": "ipython",
    "version": 2
   },
   "file_extension": ".py",
   "mimetype": "text/x-python",
   "name": "python",
   "nbconvert_exporter": "python",
   "pygments_lexer": "ipython2",
   "version": "2.7.16"
  }
 },
 "nbformat": 4,
 "nbformat_minor": 2
}
